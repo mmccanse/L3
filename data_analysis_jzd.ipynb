{
 "cells": [
  {
   "cell_type": "markdown",
   "metadata": {},
   "source": [
    "# I am just starting Jennifer's coding area\n",
    "\n",
    "I will be looking into the following areas: \n",
    "<ul>Write the code for unsupervised learning</ul>\n",
    "<ul>PCA, K nearest neighbor, K means, clustering, elbow curve</ul>\n",
    "<ul>Visualize the classification</ul>\n",
    "\n"
   ]
  },
  {
   "cell_type": "code",
   "execution_count": null,
   "metadata": {},
   "outputs": [],
   "source": []
  }
 ],
 "metadata": {
  "kernelspec": {
   "display_name": "base",
   "language": "python",
   "name": "python3"
  },
  "language_info": {
   "name": "python",
   "version": "3.11.5"
  }
 },
 "nbformat": 4,
 "nbformat_minor": 2
}
