{
 "cells": [
  {
   "cell_type": "code",
   "execution_count": null,
   "metadata": {},
   "outputs": [],
   "source": [
    "#List of Models\n",
    "model_list = [LinearRegression(),\n",
    "\t\t\tLogisticRegression(max_iter = 1000),\n",
    "\t\t\tDecisionTreeClassifier(),\n",
    "\t\t\tKNeighborRegressor(),\n",
    "\t\t\tRandomForestRegressor(),\n",
    "\t\t\tExtraTreesRegressor(),\n",
    "\t\t\tAdaBoostRegressor(),\n",
    "\t\t\tSVC(kernel = “poly”),\n",
    "\t\t\tSVR(C=1.0, epsilon=0.2)]"
   ]
  },
  {
   "cell_type": "code",
   "execution_count": null,
   "metadata": {},
   "outputs": [],
   "source": [
    "#create test set functions\n",
    "def test_models(model_list,data):\n",
    "\tfor model in model_list:\n",
    "\t\tX_train_scaled, X_test_scaled, y_train_encoded,y_test_encoded = data\n",
    "\t\treg = model.fit(X_train_scaled, y_train_encoded)\n",
    "\t\tprint(f”Model:  {type(reg)._name_}”)\n",
    "\t\tprint(f”Train Score:  {reg.score(X_train_scaled, y_train_encoded)}”)\n",
    "\t\tprint(f”Test Score:  {reg.score(X_test_scaled, y_test_encoded)}\\n”)"
   ]
  },
  {
   "cell_type": "code",
   "execution_count": null,
   "metadata": {},
   "outputs": [],
   "source": [
    "#Preprocessing functions\n",
    "#(contains feature selection, splitting data, scaling and encoding)\n",
    "\n",
    "#def preprocess_data(df,target_column):\n",
    "\t#get features\n",
    "\tX = df.copy()\n",
    "\tX = X.drop(columns = target_column)\n",
    "#get the target variable(the target column)\n",
    "\ty = df(target_column)\n",
    "#split data into training testing\n",
    "\tX_train, X_test, y_train, y_test = train_test_split(X,y, random_state =42)\n",
    "#Scale feature data\n",
    "\tscaler = StandardScaler().fit(X_train)\n",
    "\tX_train_scaled = scaler.transform(X_train)\n",
    "\tX_test_scaled = scaler.transform(X_test)\n",
    "#Create an instance of the label encoder\n",
    "\tle = LabelEncoder()\n",
    "#fit  and transform y training and testing data using the label encoder\n",
    "\ty_train_encoded = le.fit_transform(y_train)\n",
    "\ty_test_encoded = le.transform(y_test)\n",
    "#pack variables into data list\n",
    "\tdata = [X_train_scaled, X_test_scaled, y_train_encoded, y_test_encoded]\n",
    "\treturn data"
   ]
  },
  {
   "cell_type": "code",
   "execution_count": null,
   "metadata": {},
   "outputs": [],
   "source": [
    "#function to run models\n",
    "def test_model(model, data):\n",
    "    X_train_scaled, X_test_scaled, y_train, y_test = data\n",
    "    reg = model.fit(X_train_scaled, y_train)\n",
    "    print(f'Model: {type(reg).__name__}')\n",
    "    print(f'Train score: {reg.score(X_train_scaled, y_train)}')\n",
    "    print(f'Test Score: {reg.score(X_test_scaled, y_test)}\\n')\n",
    "    plt.show()   "
   ]
  },
  {
   "cell_type": "code",
   "execution_count": null,
   "metadata": {},
   "outputs": [],
   "source": [
    "#running multiple models at once\n",
    "test_model(LinearRegression(), data)\n",
    "\n",
    "test_model(KNeighborsRegressor(), data)\n",
    "test_model(RandomForestRegressor(), data)\n",
    "test_model(ExtraTreesRegressor(), data)\n",
    "test_model(AdaBoostRegressor(), data)\n",
    "test_model(SVR(C=1.0, epsilon=0.2), data)"
   ]
  }
 ],
 "metadata": {
  "language_info": {
   "name": "python"
  }
 },
 "nbformat": 4,
 "nbformat_minor": 2
}
