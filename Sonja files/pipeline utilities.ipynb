{
 "cells": [
  {
   "cell_type": "code",
   "execution_count": 3,
   "metadata": {},
   "outputs": [],
   "source": [
    "import pandas as pd\n",
    "from sklearn.model_selection import train_test_split\n",
    "from sklearn.metrics import mean_squared_error, r2_score, accuracy_score\n",
    "from sklearn.preprocessing import StandardScaler, OneHotEncoder,LabelEncoder\n",
    "from sklearn.pipeline import Pipeline\n",
    "from sklearn.linear_model import LinearRegression,LogisticRegression\n",
    "from sklearn.tree import DecisionTreeClassifier\n",
    "from sklearn.neighbors import KNeighborsRegressor\n",
    "from sklearn.ensemble import RandomForestRegressor, ExtraTreesRegressor, AdaBoostRegressor\n",
    "from sklearn.svm import SVC,SVR\n",
    "\n",
    "\n",
    "\n"
   ]
  },
  {
   "cell_type": "code",
   "execution_count": 6,
   "metadata": {},
   "outputs": [],
   "source": [
    "#List of Models\n",
    "model_list = [LinearRegression(),\n",
    "\t\t\tLogisticRegression(max_iter = 1000),\n",
    "\t\t\tDecisionTreeClassifier(),\n",
    "\t\t\tKNeighborsRegressor(),\n",
    "\t\t\tRandomForestRegressor(),\n",
    "\t\t\tExtraTreesRegressor(),\n",
    "\t\t\tAdaBoostRegressor(),\n",
    "\t\t\tSVC(kernel = 'poly'),\n",
    "\t\t\tSVR(C=1.0, epsilon=0.2)]"
   ]
  },
  {
   "cell_type": "code",
   "execution_count": null,
   "metadata": {},
   "outputs": [],
   "source": [
    "#create test set functions\n",
    "def test_models(model_list,data):\n",
    "\tfor model in model_list:\n",
    "\t\tX_train_scaled, X_test_scaled, y_train_encoded,y_test_encoded = data\n",
    "\t\treg = model.fit(X_train_scaled, y_train_encoded)\n",
    "\t\tprint(f\"Model: {type(reg)._name_}”)\n",
    "\t\tprint(f”Train Score:  {reg.score(X_train_scaled, y_train_encoded)}”)\n",
    "\t\tprint(f”Test Score:  {reg.score(X_test_scaled, y_test_encoded)}\\n”)\n",
    "\t\tplt.show()"
   ]
  },
  {
   "cell_type": "code",
   "execution_count": 9,
   "metadata": {},
   "outputs": [],
   "source": [
    "#Preprocessing functions\n",
    "#(contains feature selection, splitting data, scaling and encoding)\n",
    "\n",
    "def preprocess_data(df,target_column):\n",
    "#process data\n",
    "\t# make list of columns to drop\n",
    "\n",
    "\tlist_columns_to_remove = [\n",
    "\t#'id',\n",
    "\t'description',\n",
    "\t'host_id',\n",
    "\t'host_since',\n",
    "\t'host_has_profile_pic',\n",
    "\t'host_identity_verified',\n",
    "\t'neighbourhood_cleansed',\n",
    "\t'latitude',\n",
    "\t'longitude',\n",
    "\t#'property_type',\n",
    "\t'room_type',\n",
    "\t#'accommodates',\n",
    "\t#'bedrooms',\n",
    "\t#'beds',\n",
    "\t'amenities',\n",
    "\t#'price',\n",
    "\t#'has_availability',\n",
    "\t#'availability_30',\n",
    "\t#'availability_60',\n",
    "\t#'availability_90',\n",
    "\t#'availability_365',\n",
    "\t#'number_of_reviews',\n",
    "\t#'number_of_reviews_ltm',\n",
    "\t#'number_of_reviews_l30d',\n",
    "\t#'review_scores_rating',\n",
    "\t#'review_scores_accuracy',\n",
    "\t#'review_scores_cleanliness',\n",
    "\t#'review_scores_checkin',\n",
    "\t#'review_scores_communication',\n",
    "\t#'review_scores_location',\n",
    "\t#'review_scores_value',\n",
    "\t'instant_bookable',\n",
    "\t'reviews_per_month',\n",
    "\t'city',\n",
    "\t#'bath_number',\n",
    "\t'bath_text'\n",
    "\t]\n",
    "\t# Subset dropped columns\n",
    "\n",
    "\trf_data = denver_outliers_removed.drop(columns=list_columns_to_remove)\n",
    "\trf_data.head()\n",
    "#get features\n",
    "\tX = df.copy()\n",
    "\tX = X.drop(columns = target_column)\n",
    "#get the target variable(the target column)\n",
    "\ty = df[target_column]\n",
    "#split data into training testing\n",
    "\tX_train, X_test, y_train, y_test = train_test_split(X,y, random_state =42)\n",
    "#Scale feature data\n",
    "\tscaler = StandardScaler().fit(X_train)\n",
    "\tX_train_scaled = scaler.transform(X_train)\n",
    "\tX_test_scaled = scaler.transform(X_test)\n",
    "#Create an instance of the label encoder\n",
    "\tle = LabelEncoder()\n",
    "#fit  and transform y training and testing data using the label encoder\n",
    "\ty_train_encoded = le.fit_transform(y_train)\n",
    "\ty_test_encoded = le.transform(y_test)\n",
    "#pack variables into data list\n",
    "\tdata = [X_train_scaled, X_test_scaled, y_train_encoded, y_test_encoded]\n",
    "\treturn data"
   ]
  },
  {
   "cell_type": "code",
   "execution_count": null,
   "metadata": {},
   "outputs": [],
   "source": [
    "#create test_model function to run models\n",
    "def test_model(model, data):\n",
    "    for model in model_list:\n",
    "        X_train_scaled, X_test_scaled, y_train, y_test = data\n",
    "        reg = model.fit(X_train_scaled, y_train)\n",
    "        print(f'Model: {type(reg).__name__}')\n",
    "        print(f'Train score: {reg.score(X_train_scaled, y_train)}')\n",
    "        print(f'Test Score: {reg.score(X_test_scaled, y_test)}\\n')"
   ]
  },
  {
   "cell_type": "code",
   "execution_count": null,
   "metadata": {},
   "outputs": [],
   "source": [
    "#create pipeline\n",
    "def testing_models_pipe(df, target_colum, model_list):\n",
    "    processed_data = preprocess_data(df, target_column)\n",
    "    test_models(model_list,processed_data)"
   ]
  },
  {
   "cell_type": "markdown",
   "metadata": {},
   "source": [
    "testing_models_pipe(df, \"\",model_list)"
   ]
  },
  {
   "cell_type": "code",
   "execution_count": null,
   "metadata": {},
   "outputs": [],
   "source": [
    "#running multiple models at once\n",
    "test_model(LinearRegression(), data)\n",
    "\n",
    "test_model(KNeighborsRegressor(), data)\n",
    "test_model(RandomForestRegressor(), data)\n",
    "test_model(ExtraTreesRegressor(), data)\n",
    "test_model(AdaBoostRegressor(), data)\n",
    "test_model(SVR(C=1.0, epsilon=0.2), data)"
   ]
  }
 ],
 "metadata": {
  "kernelspec": {
   "display_name": "base",
   "language": "python",
   "name": "python3"
  },
  "language_info": {
   "codemirror_mode": {
    "name": "ipython",
    "version": 3
   },
   "file_extension": ".py",
   "mimetype": "text/x-python",
   "name": "python",
   "nbconvert_exporter": "python",
   "pygments_lexer": "ipython3",
   "version": "3.11.5"
  }
 },
 "nbformat": 4,
 "nbformat_minor": 2
}
