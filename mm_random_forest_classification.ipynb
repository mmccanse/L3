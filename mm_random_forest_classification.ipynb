{
 "cells": [
  {
   "cell_type": "code",
   "execution_count": 1,
   "metadata": {},
   "outputs": [],
   "source": [
    "import pandas as pd\n",
    "import numpy as np\n",
    "from sklearn.compose import ColumnTransformer\n",
    "from sklearn.preprocessing import StandardScaler, OneHotEncoder\n",
    "from sklearn.model_selection import train_test_split\n",
    "from sklearn.metrics import mean_absolute_error, mean_squared_error, r2_score\n",
    "import matplotlib.pyplot as plt\n",
    "from sklearn.ensemble import RandomForestClassifier, RandomForestRegressor\n",
    "from sklearn.metrics import confusion_matrix, classification_report, balanced_accuracy_score, roc_auc_score, accuracy_score\n"
   ]
  },
  {
   "cell_type": "code",
   "execution_count": 2,
   "metadata": {},
   "outputs": [],
   "source": [
    "# Read in data sets - first set has denver data with outliers removed and encoded. Next set has ID and classification groupings.\n",
    "df = pd.read_csv('1_denver_no_outliers_encoded_not_scaled.csv')\n",
    "\n",
    "segments = pd.read_csv(\"1_pca_kmeans_seg.csv\")\n"
   ]
  },
  {
   "cell_type": "code",
   "execution_count": 3,
   "metadata": {},
   "outputs": [
    {
     "name": "stdout",
     "output_type": "stream",
     "text": [
      "{3565}\n",
      "{3565}\n"
     ]
    }
   ],
   "source": [
    "# segments.head()\n",
    "\n",
    "rows = len(segments)\n",
    "rows2 = len(df)\n",
    "print({rows})\n",
    "print({rows2})"
   ]
  },
  {
   "cell_type": "code",
   "execution_count": 4,
   "metadata": {},
   "outputs": [
    {
     "name": "stdout",
     "output_type": "stream",
     "text": [
      "Series([], dtype: int64)\n",
      "Series([], dtype: int64)\n"
     ]
    }
   ],
   "source": [
    "# Check for nulls in rf_data and encoded_id_df so no issues when join.\n",
    "null_counts = df.isnull().sum().sort_values(ascending=False)\n",
    "null_counts_over0 = null_counts[null_counts > 0]\n",
    "null_counts2 = segments.isnull().sum().sort_values(ascending=False)\n",
    "null_counts2_over0 = null_counts2[null_counts2 > 0]\n",
    "print(null_counts_over0)\n",
    "print(null_counts2_over0)"
   ]
  },
  {
   "cell_type": "code",
   "execution_count": 5,
   "metadata": {},
   "outputs": [
    {
     "data": {
      "text/html": [
       "<div>\n",
       "<style scoped>\n",
       "    .dataframe tbody tr th:only-of-type {\n",
       "        vertical-align: middle;\n",
       "    }\n",
       "\n",
       "    .dataframe tbody tr th {\n",
       "        vertical-align: top;\n",
       "    }\n",
       "\n",
       "    .dataframe thead th {\n",
       "        text-align: right;\n",
       "    }\n",
       "</style>\n",
       "<table border=\"1\" class=\"dataframe\">\n",
       "  <thead>\n",
       "    <tr style=\"text-align: right;\">\n",
       "      <th></th>\n",
       "      <th>id</th>\n",
       "      <th>customer_segments_pca</th>\n",
       "      <th>accommodates</th>\n",
       "      <th>bedrooms</th>\n",
       "      <th>beds</th>\n",
       "      <th>price</th>\n",
       "      <th>availability_30</th>\n",
       "      <th>availability_60</th>\n",
       "      <th>availability_90</th>\n",
       "      <th>availability_365</th>\n",
       "      <th>...</th>\n",
       "      <th>bath_number</th>\n",
       "      <th>prop_type_reduced_Entire condo</th>\n",
       "      <th>prop_type_reduced_Entire guest suite</th>\n",
       "      <th>prop_type_reduced_Entire guesthouse</th>\n",
       "      <th>prop_type_reduced_Entire home</th>\n",
       "      <th>prop_type_reduced_Entire rental unit</th>\n",
       "      <th>prop_type_reduced_Entire townhouse</th>\n",
       "      <th>prop_type_reduced_Other</th>\n",
       "      <th>has_availability_f</th>\n",
       "      <th>has_availability_t</th>\n",
       "    </tr>\n",
       "  </thead>\n",
       "  <tbody>\n",
       "    <tr>\n",
       "      <th>0</th>\n",
       "      <td>360</td>\n",
       "      <td>1</td>\n",
       "      <td>3</td>\n",
       "      <td>2.0</td>\n",
       "      <td>2.0</td>\n",
       "      <td>90.0</td>\n",
       "      <td>4</td>\n",
       "      <td>27</td>\n",
       "      <td>57</td>\n",
       "      <td>147</td>\n",
       "      <td>...</td>\n",
       "      <td>1.0</td>\n",
       "      <td>0.0</td>\n",
       "      <td>0.0</td>\n",
       "      <td>1.0</td>\n",
       "      <td>0.0</td>\n",
       "      <td>0.0</td>\n",
       "      <td>0.0</td>\n",
       "      <td>0.0</td>\n",
       "      <td>0.0</td>\n",
       "      <td>1.0</td>\n",
       "    </tr>\n",
       "    <tr>\n",
       "      <th>1</th>\n",
       "      <td>364</td>\n",
       "      <td>3</td>\n",
       "      <td>3</td>\n",
       "      <td>1.0</td>\n",
       "      <td>1.0</td>\n",
       "      <td>179.0</td>\n",
       "      <td>23</td>\n",
       "      <td>53</td>\n",
       "      <td>83</td>\n",
       "      <td>358</td>\n",
       "      <td>...</td>\n",
       "      <td>1.5</td>\n",
       "      <td>0.0</td>\n",
       "      <td>0.0</td>\n",
       "      <td>0.0</td>\n",
       "      <td>0.0</td>\n",
       "      <td>0.0</td>\n",
       "      <td>0.0</td>\n",
       "      <td>1.0</td>\n",
       "      <td>0.0</td>\n",
       "      <td>1.0</td>\n",
       "    </tr>\n",
       "    <tr>\n",
       "      <th>2</th>\n",
       "      <td>31503</td>\n",
       "      <td>3</td>\n",
       "      <td>2</td>\n",
       "      <td>1.0</td>\n",
       "      <td>1.0</td>\n",
       "      <td>103.0</td>\n",
       "      <td>12</td>\n",
       "      <td>42</td>\n",
       "      <td>72</td>\n",
       "      <td>347</td>\n",
       "      <td>...</td>\n",
       "      <td>1.0</td>\n",
       "      <td>0.0</td>\n",
       "      <td>1.0</td>\n",
       "      <td>0.0</td>\n",
       "      <td>0.0</td>\n",
       "      <td>0.0</td>\n",
       "      <td>0.0</td>\n",
       "      <td>0.0</td>\n",
       "      <td>0.0</td>\n",
       "      <td>1.0</td>\n",
       "    </tr>\n",
       "    <tr>\n",
       "      <th>3</th>\n",
       "      <td>39405</td>\n",
       "      <td>0</td>\n",
       "      <td>2</td>\n",
       "      <td>1.0</td>\n",
       "      <td>1.0</td>\n",
       "      <td>136.0</td>\n",
       "      <td>6</td>\n",
       "      <td>7</td>\n",
       "      <td>32</td>\n",
       "      <td>114</td>\n",
       "      <td>...</td>\n",
       "      <td>1.0</td>\n",
       "      <td>0.0</td>\n",
       "      <td>0.0</td>\n",
       "      <td>0.0</td>\n",
       "      <td>0.0</td>\n",
       "      <td>0.0</td>\n",
       "      <td>0.0</td>\n",
       "      <td>1.0</td>\n",
       "      <td>0.0</td>\n",
       "      <td>1.0</td>\n",
       "    </tr>\n",
       "    <tr>\n",
       "      <th>4</th>\n",
       "      <td>154999</td>\n",
       "      <td>1</td>\n",
       "      <td>2</td>\n",
       "      <td>1.0</td>\n",
       "      <td>1.0</td>\n",
       "      <td>162.0</td>\n",
       "      <td>0</td>\n",
       "      <td>0</td>\n",
       "      <td>0</td>\n",
       "      <td>139</td>\n",
       "      <td>...</td>\n",
       "      <td>1.0</td>\n",
       "      <td>1.0</td>\n",
       "      <td>0.0</td>\n",
       "      <td>0.0</td>\n",
       "      <td>0.0</td>\n",
       "      <td>0.0</td>\n",
       "      <td>0.0</td>\n",
       "      <td>0.0</td>\n",
       "      <td>0.0</td>\n",
       "      <td>1.0</td>\n",
       "    </tr>\n",
       "  </tbody>\n",
       "</table>\n",
       "<p>5 rows × 30 columns</p>\n",
       "</div>"
      ],
      "text/plain": [
       "       id  customer_segments_pca  accommodates  bedrooms  beds  price  \\\n",
       "0     360                      1             3       2.0   2.0   90.0   \n",
       "1     364                      3             3       1.0   1.0  179.0   \n",
       "2   31503                      3             2       1.0   1.0  103.0   \n",
       "3   39405                      0             2       1.0   1.0  136.0   \n",
       "4  154999                      1             2       1.0   1.0  162.0   \n",
       "\n",
       "   availability_30  availability_60  availability_90  availability_365  ...  \\\n",
       "0                4               27               57               147  ...   \n",
       "1               23               53               83               358  ...   \n",
       "2               12               42               72               347  ...   \n",
       "3                6                7               32               114  ...   \n",
       "4                0                0                0               139  ...   \n",
       "\n",
       "   bath_number  prop_type_reduced_Entire condo  \\\n",
       "0          1.0                             0.0   \n",
       "1          1.5                             0.0   \n",
       "2          1.0                             0.0   \n",
       "3          1.0                             0.0   \n",
       "4          1.0                             1.0   \n",
       "\n",
       "   prop_type_reduced_Entire guest suite  prop_type_reduced_Entire guesthouse  \\\n",
       "0                                   0.0                                  1.0   \n",
       "1                                   0.0                                  0.0   \n",
       "2                                   1.0                                  0.0   \n",
       "3                                   0.0                                  0.0   \n",
       "4                                   0.0                                  0.0   \n",
       "\n",
       "   prop_type_reduced_Entire home  prop_type_reduced_Entire rental unit  \\\n",
       "0                            0.0                                   0.0   \n",
       "1                            0.0                                   0.0   \n",
       "2                            0.0                                   0.0   \n",
       "3                            0.0                                   0.0   \n",
       "4                            0.0                                   0.0   \n",
       "\n",
       "   prop_type_reduced_Entire townhouse  prop_type_reduced_Other  \\\n",
       "0                                 0.0                      0.0   \n",
       "1                                 0.0                      1.0   \n",
       "2                                 0.0                      0.0   \n",
       "3                                 0.0                      1.0   \n",
       "4                                 0.0                      0.0   \n",
       "\n",
       "   has_availability_f  has_availability_t  \n",
       "0                 0.0                 1.0  \n",
       "1                 0.0                 1.0  \n",
       "2                 0.0                 1.0  \n",
       "3                 0.0                 1.0  \n",
       "4                 0.0                 1.0  \n",
       "\n",
       "[5 rows x 30 columns]"
      ]
     },
     "execution_count": 5,
     "metadata": {},
     "output_type": "execute_result"
    }
   ],
   "source": [
    "# merge encoded dataframe with rest of data by id\n",
    "\n",
    "rf_classification_df = pd.merge(segments, df, on='id', how='inner')\n",
    "rf_classification_df.head()\n",
    "\n"
   ]
  },
  {
   "cell_type": "code",
   "execution_count": 6,
   "metadata": {},
   "outputs": [
    {
     "name": "stdout",
     "output_type": "stream",
     "text": [
      "Series([], dtype: int64)\n"
     ]
    }
   ],
   "source": [
    "# Check for nulls in rf_data and encoded_id_df so no issues when join.\n",
    "rf_nulls = rf_classification_df.isnull().sum().sort_values(ascending=False)\n",
    "rf_nulls_over0 = rf_nulls[rf_nulls > 0]\n",
    "\n",
    "print(rf_nulls_over0)\n"
   ]
  },
  {
   "cell_type": "code",
   "execution_count": 7,
   "metadata": {},
   "outputs": [],
   "source": [
    "# Set id as index so can retain id through the split and prediction process\n",
    "rf_classification_df= rf_classification_df.set_index('id')"
   ]
  },
  {
   "cell_type": "markdown",
   "metadata": {},
   "source": [
    "Below section builds the random forest classification model.\n",
    "\n",
    "We will use this to predict the segment classification."
   ]
  },
  {
   "cell_type": "code",
   "execution_count": 8,
   "metadata": {},
   "outputs": [],
   "source": [
    "##### random forest no need to scale. Data is all numeric and already encoded as needed."
   ]
  },
  {
   "cell_type": "code",
   "execution_count": 9,
   "metadata": {},
   "outputs": [
    {
     "data": {
      "text/plain": [
       "Index(['customer_segments_pca', 'accommodates', 'bedrooms', 'beds', 'price',\n",
       "       'availability_30', 'availability_60', 'availability_90',\n",
       "       'availability_365', 'number_of_reviews', 'number_of_reviews_ltm',\n",
       "       'number_of_reviews_l30d', 'review_scores_rating',\n",
       "       'review_scores_accuracy', 'review_scores_cleanliness',\n",
       "       'review_scores_checkin', 'review_scores_communication',\n",
       "       'review_scores_location', 'review_scores_value', 'bath_number',\n",
       "       'prop_type_reduced_Entire condo',\n",
       "       'prop_type_reduced_Entire guest suite',\n",
       "       'prop_type_reduced_Entire guesthouse', 'prop_type_reduced_Entire home',\n",
       "       'prop_type_reduced_Entire rental unit',\n",
       "       'prop_type_reduced_Entire townhouse', 'prop_type_reduced_Other',\n",
       "       'has_availability_f', 'has_availability_t'],\n",
       "      dtype='object')"
      ]
     },
     "execution_count": 9,
     "metadata": {},
     "output_type": "execute_result"
    }
   ],
   "source": [
    "rf_classification_df.columns"
   ]
  },
  {
   "cell_type": "code",
   "execution_count": 10,
   "metadata": {},
   "outputs": [],
   "source": [
    "# create x and y (drop customer segments pca)\n",
    "\n",
    "X = rf_classification_df.copy()\n",
    "X.drop('customer_segments_pca', axis=1, inplace=True)\n",
    "y = rf_classification_df['customer_segments_pca']\n"
   ]
  },
  {
   "cell_type": "code",
   "execution_count": 11,
   "metadata": {},
   "outputs": [
    {
     "data": {
      "text/plain": [
       "array([1, 3, 3, ..., 1, 3, 1], dtype=int64)"
      ]
     },
     "execution_count": 11,
     "metadata": {},
     "output_type": "execute_result"
    }
   ],
   "source": [
    "# get y sets into array format\n",
    "y.ravel()"
   ]
  },
  {
   "cell_type": "code",
   "execution_count": 12,
   "metadata": {},
   "outputs": [],
   "source": [
    "# train_test_split on x and y \n",
    "X_train, X_test, y_train, y_test = train_test_split(X, y, random_state=1)\n"
   ]
  },
  {
   "cell_type": "code",
   "execution_count": 13,
   "metadata": {},
   "outputs": [],
   "source": [
    "# create and fit random forest classification model \n",
    "rf_class_model = RandomForestClassifier(n_estimators=200, random_state=1)\n",
    "\n",
    "rf_class_model = rf_class_model.fit(X_train, y_train)\n"
   ]
  },
  {
   "cell_type": "code",
   "execution_count": 14,
   "metadata": {},
   "outputs": [],
   "source": [
    "# make predictions\n",
    "\n",
    "y_pred_class = rf_class_model.predict(X_test)\n"
   ]
  },
  {
   "cell_type": "code",
   "execution_count": 15,
   "metadata": {},
   "outputs": [
    {
     "name": "stdout",
     "output_type": "stream",
     "text": [
      "Accuracy Score : 0.9237668161434978\n"
     ]
    }
   ],
   "source": [
    "# calculate accuracy score\n",
    "\n",
    "acc_score = accuracy_score(y_test, y_pred_class)\n",
    "\n",
    "\n",
    "# Display results\n",
    "print(f\"Accuracy Score : {acc_score}\")"
   ]
  },
  {
   "cell_type": "code",
   "execution_count": 16,
   "metadata": {},
   "outputs": [
    {
     "name": "stdout",
     "output_type": "stream",
     "text": [
      "Classification Report\n",
      "              precision    recall  f1-score   support\n",
      "\n",
      "           0       0.93      0.87      0.90       178\n",
      "           1       0.92      0.95      0.93       277\n",
      "           2       0.92      0.65      0.76        17\n",
      "           3       0.90      0.94      0.92       237\n",
      "           4       0.96      0.94      0.95       183\n",
      "\n",
      "    accuracy                           0.92       892\n",
      "   macro avg       0.92      0.87      0.89       892\n",
      "weighted avg       0.92      0.92      0.92       892\n",
      "\n"
     ]
    }
   ],
   "source": [
    "# Print classification reports\n",
    "print(f\"Classification Report\")\n",
    "print(classification_report(y_test, y_pred_class))"
   ]
  },
  {
   "cell_type": "code",
   "execution_count": 18,
   "metadata": {},
   "outputs": [],
   "source": [
    "# Get the feature importance array for availability and rating\n",
    "\n",
    "feature_importances_segment = rf_class_model.feature_importances_\n"
   ]
  },
  {
   "cell_type": "code",
   "execution_count": 28,
   "metadata": {},
   "outputs": [
    {
     "data": {
      "text/html": [
       "<div>\n",
       "<style scoped>\n",
       "    .dataframe tbody tr th:only-of-type {\n",
       "        vertical-align: middle;\n",
       "    }\n",
       "\n",
       "    .dataframe tbody tr th {\n",
       "        vertical-align: top;\n",
       "    }\n",
       "\n",
       "    .dataframe thead th {\n",
       "        text-align: right;\n",
       "    }\n",
       "</style>\n",
       "<table border=\"1\" class=\"dataframe\">\n",
       "  <thead>\n",
       "    <tr style=\"text-align: right;\">\n",
       "      <th></th>\n",
       "      <th>Feature</th>\n",
       "      <th>Importance</th>\n",
       "    </tr>\n",
       "  </thead>\n",
       "  <tbody>\n",
       "    <tr>\n",
       "      <th>5</th>\n",
       "      <td>availability_60</td>\n",
       "      <td>0.132801</td>\n",
       "    </tr>\n",
       "    <tr>\n",
       "      <th>9</th>\n",
       "      <td>number_of_reviews_ltm</td>\n",
       "      <td>0.118331</td>\n",
       "    </tr>\n",
       "    <tr>\n",
       "      <th>6</th>\n",
       "      <td>availability_90</td>\n",
       "      <td>0.095972</td>\n",
       "    </tr>\n",
       "    <tr>\n",
       "      <th>4</th>\n",
       "      <td>availability_30</td>\n",
       "      <td>0.090363</td>\n",
       "    </tr>\n",
       "    <tr>\n",
       "      <th>1</th>\n",
       "      <td>bedrooms</td>\n",
       "      <td>0.078060</td>\n",
       "    </tr>\n",
       "    <tr>\n",
       "      <th>10</th>\n",
       "      <td>number_of_reviews_l30d</td>\n",
       "      <td>0.072963</td>\n",
       "    </tr>\n",
       "    <tr>\n",
       "      <th>0</th>\n",
       "      <td>accommodates</td>\n",
       "      <td>0.059002</td>\n",
       "    </tr>\n",
       "    <tr>\n",
       "      <th>18</th>\n",
       "      <td>bath_number</td>\n",
       "      <td>0.044831</td>\n",
       "    </tr>\n",
       "    <tr>\n",
       "      <th>3</th>\n",
       "      <td>price</td>\n",
       "      <td>0.044400</td>\n",
       "    </tr>\n",
       "    <tr>\n",
       "      <th>2</th>\n",
       "      <td>beds</td>\n",
       "      <td>0.044031</td>\n",
       "    </tr>\n",
       "    <tr>\n",
       "      <th>7</th>\n",
       "      <td>availability_365</td>\n",
       "      <td>0.041462</td>\n",
       "    </tr>\n",
       "    <tr>\n",
       "      <th>8</th>\n",
       "      <td>number_of_reviews</td>\n",
       "      <td>0.037531</td>\n",
       "    </tr>\n",
       "    <tr>\n",
       "      <th>17</th>\n",
       "      <td>review_scores_value</td>\n",
       "      <td>0.022458</td>\n",
       "    </tr>\n",
       "    <tr>\n",
       "      <th>11</th>\n",
       "      <td>review_scores_rating</td>\n",
       "      <td>0.021226</td>\n",
       "    </tr>\n",
       "    <tr>\n",
       "      <th>12</th>\n",
       "      <td>review_scores_accuracy</td>\n",
       "      <td>0.018149</td>\n",
       "    </tr>\n",
       "  </tbody>\n",
       "</table>\n",
       "</div>"
      ],
      "text/plain": [
       "                   Feature  Importance\n",
       "5          availability_60    0.132801\n",
       "9    number_of_reviews_ltm    0.118331\n",
       "6          availability_90    0.095972\n",
       "4          availability_30    0.090363\n",
       "1                 bedrooms    0.078060\n",
       "10  number_of_reviews_l30d    0.072963\n",
       "0             accommodates    0.059002\n",
       "18             bath_number    0.044831\n",
       "3                    price    0.044400\n",
       "2                     beds    0.044031\n",
       "7         availability_365    0.041462\n",
       "8        number_of_reviews    0.037531\n",
       "17     review_scores_value    0.022458\n",
       "11    review_scores_rating    0.021226\n",
       "12  review_scores_accuracy    0.018149"
      ]
     },
     "execution_count": 28,
     "metadata": {},
     "output_type": "execute_result"
    }
   ],
   "source": [
    "# Create sorted dataframe of availability features and importance scores\n",
    "feature_names_segment = X_train.columns\n",
    "importances_segment_df = pd.DataFrame({'Feature': feature_names_segment, 'Importance': feature_importances_segment })\n",
    "importances_segment_df_sorted = importances_segment_df.sort_values(by='Importance', ascending=False)\n",
    "importances_segment_df_sorted.head(15)"
   ]
  },
  {
   "cell_type": "code",
   "execution_count": 49,
   "metadata": {},
   "outputs": [
    {
     "name": "stdout",
     "output_type": "stream",
     "text": [
      "{0.8597460707951622}\n"
     ]
    }
   ],
   "source": [
    "sum_top_values = importances_segment_df_sorted['Importance'].head(12).sum()\n",
    "print({sum_top_values})"
   ]
  },
  {
   "cell_type": "code",
   "execution_count": 50,
   "metadata": {},
   "outputs": [
    {
     "data": {
      "text/plain": [
       "28"
      ]
     },
     "execution_count": 50,
     "metadata": {},
     "output_type": "execute_result"
    }
   ],
   "source": [
    "len(importances_segment_df_sorted)"
   ]
  },
  {
   "cell_type": "code",
   "execution_count": 21,
   "metadata": {},
   "outputs": [
    {
     "data": {
      "text/plain": [
       "Feature       availability_60number_of_reviews_ltmavailabili...\n",
       "Importance                                                  1.0\n",
       "dtype: object"
      ]
     },
     "execution_count": 21,
     "metadata": {},
     "output_type": "execute_result"
    }
   ],
   "source": [
    "importances_segment_df_sorted.sum()"
   ]
  },
  {
   "cell_type": "code",
   "execution_count": 53,
   "metadata": {},
   "outputs": [
    {
     "data": {
      "image/png": "[encoded data removed]",
      "text/plain": [
       "<Figure size 2000x800 with 1 Axes>"
      ]
     },
     "metadata": {},
     "output_type": "display_data"
    }
   ],
   "source": [
    "# plot top feature importances for segment classification\n",
    "\n",
    "N = 13\n",
    "top_features_segment = importances_segment_df_sorted.head(N)\n",
    "\n",
    "plt.figure(figsize=(20, 8))\n",
    "plt.bar(top_features_segment['Feature'], top_features_segment['Importance'])\n",
    "plt.xlabel('Feature', fontsize=16)\n",
    "plt.ylabel('Importance', fontsize=16)\n",
    "plt.title('Top Feature Importances Cluster Predictions')\n",
    "plt.xticks(fontsize=12, rotation=65)  # Rotate x-ticks for better readability \n",
    "plt.yticks(fontsize=12)\n",
    "\n",
    "plt.show()"
   ]
  }
 ],
 "metadata": {
  "kernelspec": {
   "display_name": "base",
   "language": "python",
   "name": "python3"
  },
  "language_info": {
   "codemirror_mode": {
    "name": "ipython",
    "version": 3
   },
   "file_extension": ".py",
   "mimetype": "text/x-python",
   "name": "python",
   "nbconvert_exporter": "python",
   "pygments_lexer": "ipython3",
   "version": "3.11.5"
  }
 },
 "nbformat": 4,
 "nbformat_minor": 2
}
