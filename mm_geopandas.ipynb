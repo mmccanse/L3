{
 "cells": [
  {
   "cell_type": "code",
   "execution_count": null,
   "metadata": {},
   "outputs": [],
   "source": [
    "import geopandas as gpd\n",
    "import contextily as ctx\n",
    "# from geodatasets import get_path\n",
    "from shapely import wkt\n",
    "from shapely.geometry import Point\n",
    "from shapely import wkt\n",
    "from shapely.geometry import Point\n",
    "import geopandas as gpd\n",
    "import contextily as ctx\n",
    "# from geodatasets import get_path"
   ]
  },
  {
   "cell_type": "code",
   "execution_count": null,
   "metadata": {},
   "outputs": [],
   "source": [
    "gpd.datasets.available"
   ]
  },
  {
   "cell_type": "code",
   "execution_count": null,
   "metadata": {},
   "outputs": [],
   "source": [
    "# cities = gpd.read_file(gpd.datasets.get_path('naturalearth_cities'))\n",
    "# nybb = gpd.read_file(gpd.datasets.get_path('nybb'))\n",
    "# lowres = gpd.read_file(gpd.datasets.get_path('naturalearth_lowres'))"
   ]
  },
  {
   "cell_type": "code",
   "execution_count": null,
   "metadata": {},
   "outputs": [],
   "source": [
    "# lowres.plot()\n",
    "# plt.show()"
   ]
  },
  {
   "cell_type": "code",
   "execution_count": null,
   "metadata": {},
   "outputs": [],
   "source": [
    "# cities.plot()\n",
    "# plt.show()"
   ]
  },
  {
   "cell_type": "code",
   "execution_count": null,
   "metadata": {},
   "outputs": [],
   "source": [
    "# Create geometry column for listing location\n",
    "\n",
    "denver_nulls_removed['listing_geometry'] = denver_nulls_removed.apply(lambda row: Point(row['longitude'], row['latitude']), axis=1)\n",
    "\n",
    "geodf = gpd.GeoDataFrame(denver_nulls_removed, geometry=\"listing_geometry\")\n",
    "geodf.head()"
   ]
  },
  {
   "cell_type": "code",
   "execution_count": null,
   "metadata": {},
   "outputs": [],
   "source": [
    "# Create variables for test attraction and lat/long coordinates, converted to decimal format.\n",
    "attract1 = \"union_station\"\n",
    "lat1 = 39.75305556\n",
    "long1 = -105.000000\n",
    "\n",
    "# Create columns with fixed values for above variables\n",
    "geodf['attraction1'] = attract1\n",
    "\n",
    "geodf.head()"
   ]
  },
  {
   "cell_type": "code",
   "execution_count": null,
   "metadata": {},
   "outputs": [],
   "source": [
    "# Create geometry column for attraction 1\n",
    "\n",
    "# long1 and lat1 are variables defined above\n",
    "point_geometry = Point(long1, lat1)\n",
    "\n",
    "geodf['attract1_geometry'] = [point_geometry] * len(geodf)\n",
    "\n",
    "# set CRS format for new column\n",
    "geodf = gpd.GeoDataFrame(geodf, geometry='attract1_geometry', crs=\"EPSG:4326\")\n",
    "\n",
    "\n",
    "geodf.head()"
   ]
  },
  {
   "cell_type": "code",
   "execution_count": null,
   "metadata": {},
   "outputs": [],
   "source": [
    "# Create geometry column for geometric object of attraction 1 if the lat/long are in separate columns\n",
    "\n",
    "# denver['attraction1_geometry'] = denver.apply(lambda row: Point(row['long1'], row['lat1']), axis=1)\n",
    "\n",
    "# geodf = gpd.GeoDataFrame(denver, geometry=\"attraction1_geometry\")\n",
    "# geodf.head()"
   ]
  },
  {
   "cell_type": "code",
   "execution_count": null,
   "metadata": {},
   "outputs": [],
   "source": [
    "# set geometry column\n",
    "\n",
    "geodf = geodf.set_geometry('listing_geometry')"
   ]
  },
  {
   "cell_type": "code",
   "execution_count": null,
   "metadata": {},
   "outputs": [],
   "source": [
    "# set the CRS of the 'listing_geometry' column to EPSG: 4326\n",
    "\n",
    "geodf = geodf.set_crs(\"EPSG:4326\", allow_override=True)"
   ]
  },
  {
   "cell_type": "code",
   "execution_count": null,
   "metadata": {},
   "outputs": [],
   "source": [
    "# Create top attraction dataframe\n",
    "\n",
    "top_attraction_gdf = gpd.GeoDataFrame({\n",
    "    'attraction': ['union station'],\n",
    "    'geometry': [Point(-104.9903, 39.7392)]\n",
    "    \n",
    "}, crs=\"EPSG:4326\")\n",
    "\n",
    "# Convert to Web Mercator\n",
    "top_attraction_gdf = top_attraction_gdf.to_crs(epsg=3857)"
   ]
  },
  {
   "cell_type": "code",
   "execution_count": null,
   "metadata": {},
   "outputs": [],
   "source": [
    "# Assuming 'airbnb_gdf' is your GeoDataFrame with Airbnb listings in EPSG:4326\n",
    "# and 'attractions_gdf' is another GeoDataFrame with top 5 Denver attractions, also in EPSG:4326\n",
    "# Make sure both GeoDataFrames have a 'geometry' column with Point geometries\n",
    "\n",
    "# Convert GeoDataFrames to Web Mercator (EPSG:3857) for contextily\n",
    "# airbnb_gdf = geodf.to_crs(epsg=3857)\n",
    "\n",
    "\n",
    "# # Plotting\n",
    "# fig, ax = plt.subplots(figsize=(15, 15))\n",
    "\n",
    "# # Plot Airbnb listings\n",
    "# airbnb_gdf.plot(ax=ax, color='red', markersize=5, label='Airbnb Listings')\n",
    "\n",
    "# # Optionally, set the bounds manually if you want to zoom in to a specific area\n",
    "# # ax.set_xlim([min_x, max_x])\n",
    "# # ax.set_ylim([min_y, max_y])\n",
    "\n",
    "# # Calculate buffer around the top attraction (e.g., 1000 meters radius)\n",
    "# buffer_radius = 8046.72  # meters = 5 miles\n",
    "# top_attraction_gdf['buffer'] = top_attraction_gdf.buffer(buffer_radius)\n",
    "\n",
    "# # Add basemap\n",
    "# ctx.add_basemap(ax, source=ctx.providers.OpenStreetMap.Mapnik, zoom=14)\n",
    "\n",
    "# # Plot top attraction\n",
    "# top_attraction_gdf.plot(ax=ax, color='blue', marker='*', markersize=10, label='Top Attraction')\n",
    "\n",
    "# # Plot buffer as circle around top attraction\n",
    "# top_attraction_gdf.plot(ax=ax, color='none', edgecolor='blue', linewidth=2, label='Attraction Buffer', column='buffer')\n",
    "\n",
    "# # Adjust axes to fit the plot\n",
    "# ax.set_xlim([airbnb_gdf.total_bounds[0] + 1000, airbnb_gdf.total_bounds[2] - 1000])\n",
    "# ax.set_ylim([airbnb_gdf.total_bounds[1] + 1000, airbnb_gdf.total_bounds[3] - 1000])\n",
    "\n",
    "# # Adding legend\n",
    "# ax.legend()\n",
    "\n",
    "# # Remove axis clutter\n",
    "# ax.axis('off')\n",
    "\n",
    "# # plt.legend()\n",
    "# plt.show()"
   ]
  },
  {
   "cell_type": "code",
   "execution_count": null,
   "metadata": {},
   "outputs": [],
   "source": [
    "# airbnb_gdf has the listing geometry in meters (epsg=3857) and attraction geometry in EPSG:4326\n",
    "# airbnb_gdf.head()"
   ]
  },
  {
   "cell_type": "code",
   "execution_count": null,
   "metadata": {},
   "outputs": [],
   "source": [
    "from pyproj import Proj, transform\n",
    "\n",
    "# Define the projection for geographic coordinates and Web Mercator\n",
    "proj_latlon = Proj(init='epsg:4326')\n",
    "proj_web_mercator = Proj(init='epsg:3857')\n",
    "\n",
    "# Denver's geographic coordinates\n",
    "lat, lon = 39.7392, -104.9903\n",
    "\n",
    "# Convert to EPSG:3857\n",
    "x, y = transform(proj_latlon, proj_web_mercator, lon, lat)\n",
    "\n",
    "print(f\"Web Mercator Coordinates for Denver: x={x}, y={y}\")"
   ]
  },
  {
   "cell_type": "code",
   "execution_count": null,
   "metadata": {},
   "outputs": [],
   "source": [
    "# # Calculate buffer around the top attraction (e.g., 1000 meters radius)\n",
    "# buffer_radius = 1000  # meters\n",
    "# top_attraction_gdf['buffer'] = top_attraction_gdf.buffer(buffer_radius)\n",
    "\n",
    "# # Plotting\n",
    "# fig, ax = plt.subplots(figsize=(10, 10))\n",
    "\n",
    "# # Plot Airbnb listings\n",
    "# airbnb_gdf.plot(ax=ax, color='red', markersize=5, label='Airbnb Listings')\n",
    "\n",
    "# # Plot top attraction\n",
    "# top_attraction_gdf.plot(ax=ax, color='blue', marker='*', markersize=10, label='Top Attraction')\n",
    "\n",
    "# # Plot buffer as circle around top attraction\n",
    "# top_attraction_gdf.plot(ax=ax, color='none', edgecolor='blue', linewidth=2, label='Attraction Buffer', column='buffer')\n",
    "\n",
    "# # Adjust axes to fit the plot\n",
    "# ax.set_xlim([airbnb_gdf.total_bounds[0] - 1000, airbnb_gdf.total_bounds[2] + 1000])\n",
    "# ax.set_ylim([airbnb_gdf.total_bounds[1] - 1000, airbnb_gdf.total_bounds[3] + 1000])\n",
    "\n",
    "\n",
    "# # Add basemap\n",
    "# ctx.add_basemap(ax, source=ctx.providers.OpenStreetMap.Mapnik)\n",
    "\n",
    "# # Remove axis clutter\n",
    "# ax.axis('off')\n",
    "\n",
    "# plt.legend()\n",
    "# plt.show()"
   ]
  },
  {
   "cell_type": "code",
   "execution_count": null,
   "metadata": {},
   "outputs": [],
   "source": []
  },
  {
   "cell_type": "code",
   "execution_count": null,
   "metadata": {},
   "outputs": [],
   "source": []
  },
  {
   "cell_type": "code",
   "execution_count": null,
   "metadata": {},
   "outputs": [],
   "source": []
  }
 ],
 "metadata": {
  "language_info": {
   "name": "python"
  }
 },
 "nbformat": 4,
 "nbformat_minor": 2
}
