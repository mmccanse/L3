{
 "cells": [
  {
   "cell_type": "code",
   "execution_count": 33,
   "metadata": {},
   "outputs": [],
   "source": [
    "import pandas as pd\n",
    "import numpy as np\n",
    "from sklearn.compose import ColumnTransformer\n",
    "from sklearn.preprocessing import StandardScaler, OneHotEncoder\n",
    "from sklearn.model_selection import train_test_split\n",
    "from sklearn.metrics import mean_absolute_error, mean_squared_error, r2_score\n",
    "import matplotlib.pyplot as plt\n",
    "from sklearn.ensemble import RandomForestClassifier, RandomForestRegressor\n",
    "from sklearn.metrics import confusion_matrix, classification_report, balanced_accuracy_score, roc_auc_score, accuracy_score\n"
   ]
  },
  {
   "cell_type": "code",
   "execution_count": 34,
   "metadata": {},
   "outputs": [],
   "source": [
    "# Read in data sets - first set has denver data with outliers removed and encoded. Next set has ID and classification groupings.\n",
    "df = pd.read_csv('1_denver_no_outliers_encoded_not_scaled.csv')\n",
    "\n",
    "segments = pd.read_csv(\"1_pca_kmeans_seg.csv\")"
   ]
  },
  {
   "cell_type": "code",
   "execution_count": 35,
   "metadata": {},
   "outputs": [
    {
     "name": "stdout",
     "output_type": "stream",
     "text": [
      "{3565}\n",
      "{3565}\n"
     ]
    }
   ],
   "source": [
    "# segments.head()\n",
    "\n",
    "rows = len(segments)\n",
    "rows2 = len(df)\n",
    "print({rows})\n",
    "print({rows2})"
   ]
  },
  {
   "cell_type": "code",
   "execution_count": 36,
   "metadata": {},
   "outputs": [
    {
     "name": "stdout",
     "output_type": "stream",
     "text": [
      "Series([], dtype: int64)\n",
      "Series([], dtype: int64)\n"
     ]
    }
   ],
   "source": [
    "# Check for nulls in rf_data and encoded_id_df so no issues when join.\n",
    "null_counts = df.isnull().sum().sort_values(ascending=False)\n",
    "null_counts_over0 = null_counts[null_counts > 0]\n",
    "null_counts2 = segments.isnull().sum().sort_values(ascending=False)\n",
    "null_counts2_over0 = null_counts2[null_counts2 > 0]\n",
    "print(null_counts_over0)\n",
    "print(null_counts2_over0)"
   ]
  },
  {
   "cell_type": "code",
   "execution_count": 37,
   "metadata": {},
   "outputs": [
    {
     "data": {
      "text/html": [
       "<div>\n",
       "<style scoped>\n",
       "    .dataframe tbody tr th:only-of-type {\n",
       "        vertical-align: middle;\n",
       "    }\n",
       "\n",
       "    .dataframe tbody tr th {\n",
       "        vertical-align: top;\n",
       "    }\n",
       "\n",
       "    .dataframe thead th {\n",
       "        text-align: right;\n",
       "    }\n",
       "</style>\n",
       "<table border=\"1\" class=\"dataframe\">\n",
       "  <thead>\n",
       "    <tr style=\"text-align: right;\">\n",
       "      <th></th>\n",
       "      <th>id</th>\n",
       "      <th>customer_segments_pca</th>\n",
       "      <th>accommodates</th>\n",
       "      <th>bedrooms</th>\n",
       "      <th>beds</th>\n",
       "      <th>price</th>\n",
       "      <th>availability_30</th>\n",
       "      <th>availability_60</th>\n",
       "      <th>availability_90</th>\n",
       "      <th>availability_365</th>\n",
       "      <th>number_of_reviews</th>\n",
       "      <th>number_of_reviews_ltm</th>\n",
       "      <th>number_of_reviews_l30d</th>\n",
       "      <th>review_scores_rating</th>\n",
       "      <th>review_scores_accuracy</th>\n",
       "      <th>review_scores_cleanliness</th>\n",
       "      <th>review_scores_checkin</th>\n",
       "      <th>review_scores_communication</th>\n",
       "      <th>review_scores_location</th>\n",
       "      <th>review_scores_value</th>\n",
       "      <th>bath_number</th>\n",
       "      <th>prop_type_reduced_Entire condo</th>\n",
       "      <th>prop_type_reduced_Entire guest suite</th>\n",
       "      <th>prop_type_reduced_Entire guesthouse</th>\n",
       "      <th>prop_type_reduced_Entire home</th>\n",
       "      <th>prop_type_reduced_Entire rental unit</th>\n",
       "      <th>prop_type_reduced_Entire townhouse</th>\n",
       "      <th>prop_type_reduced_Other</th>\n",
       "      <th>has_availability_f</th>\n",
       "      <th>has_availability_t</th>\n",
       "    </tr>\n",
       "  </thead>\n",
       "  <tbody>\n",
       "    <tr>\n",
       "      <th>0</th>\n",
       "      <td>360</td>\n",
       "      <td>1</td>\n",
       "      <td>3</td>\n",
       "      <td>2.0</td>\n",
       "      <td>2.0</td>\n",
       "      <td>90.0</td>\n",
       "      <td>4</td>\n",
       "      <td>27</td>\n",
       "      <td>57</td>\n",
       "      <td>147</td>\n",
       "      <td>179</td>\n",
       "      <td>7</td>\n",
       "      <td>0</td>\n",
       "      <td>4.99</td>\n",
       "      <td>4.99</td>\n",
       "      <td>4.96</td>\n",
       "      <td>5.00</td>\n",
       "      <td>5.00</td>\n",
       "      <td>5.00</td>\n",
       "      <td>4.91</td>\n",
       "      <td>1.0</td>\n",
       "      <td>0.0</td>\n",
       "      <td>0.0</td>\n",
       "      <td>1.0</td>\n",
       "      <td>0.0</td>\n",
       "      <td>0.0</td>\n",
       "      <td>0.0</td>\n",
       "      <td>0.0</td>\n",
       "      <td>0.0</td>\n",
       "      <td>1.0</td>\n",
       "    </tr>\n",
       "    <tr>\n",
       "      <th>1</th>\n",
       "      <td>364</td>\n",
       "      <td>3</td>\n",
       "      <td>3</td>\n",
       "      <td>1.0</td>\n",
       "      <td>1.0</td>\n",
       "      <td>179.0</td>\n",
       "      <td>23</td>\n",
       "      <td>53</td>\n",
       "      <td>83</td>\n",
       "      <td>358</td>\n",
       "      <td>87</td>\n",
       "      <td>0</td>\n",
       "      <td>0</td>\n",
       "      <td>4.85</td>\n",
       "      <td>4.78</td>\n",
       "      <td>4.81</td>\n",
       "      <td>4.95</td>\n",
       "      <td>4.96</td>\n",
       "      <td>4.65</td>\n",
       "      <td>4.71</td>\n",
       "      <td>1.5</td>\n",
       "      <td>0.0</td>\n",
       "      <td>0.0</td>\n",
       "      <td>0.0</td>\n",
       "      <td>0.0</td>\n",
       "      <td>0.0</td>\n",
       "      <td>0.0</td>\n",
       "      <td>1.0</td>\n",
       "      <td>0.0</td>\n",
       "      <td>1.0</td>\n",
       "    </tr>\n",
       "    <tr>\n",
       "      <th>2</th>\n",
       "      <td>31503</td>\n",
       "      <td>3</td>\n",
       "      <td>2</td>\n",
       "      <td>1.0</td>\n",
       "      <td>1.0</td>\n",
       "      <td>103.0</td>\n",
       "      <td>12</td>\n",
       "      <td>42</td>\n",
       "      <td>72</td>\n",
       "      <td>347</td>\n",
       "      <td>159</td>\n",
       "      <td>27</td>\n",
       "      <td>3</td>\n",
       "      <td>4.91</td>\n",
       "      <td>4.92</td>\n",
       "      <td>5.00</td>\n",
       "      <td>4.95</td>\n",
       "      <td>4.99</td>\n",
       "      <td>4.88</td>\n",
       "      <td>4.88</td>\n",
       "      <td>1.0</td>\n",
       "      <td>0.0</td>\n",
       "      <td>1.0</td>\n",
       "      <td>0.0</td>\n",
       "      <td>0.0</td>\n",
       "      <td>0.0</td>\n",
       "      <td>0.0</td>\n",
       "      <td>0.0</td>\n",
       "      <td>0.0</td>\n",
       "      <td>1.0</td>\n",
       "    </tr>\n",
       "    <tr>\n",
       "      <th>3</th>\n",
       "      <td>39405</td>\n",
       "      <td>0</td>\n",
       "      <td>2</td>\n",
       "      <td>1.0</td>\n",
       "      <td>1.0</td>\n",
       "      <td>136.0</td>\n",
       "      <td>6</td>\n",
       "      <td>7</td>\n",
       "      <td>32</td>\n",
       "      <td>114</td>\n",
       "      <td>667</td>\n",
       "      <td>35</td>\n",
       "      <td>3</td>\n",
       "      <td>4.92</td>\n",
       "      <td>4.88</td>\n",
       "      <td>4.93</td>\n",
       "      <td>4.98</td>\n",
       "      <td>4.97</td>\n",
       "      <td>4.85</td>\n",
       "      <td>4.85</td>\n",
       "      <td>1.0</td>\n",
       "      <td>0.0</td>\n",
       "      <td>0.0</td>\n",
       "      <td>0.0</td>\n",
       "      <td>0.0</td>\n",
       "      <td>0.0</td>\n",
       "      <td>0.0</td>\n",
       "      <td>1.0</td>\n",
       "      <td>0.0</td>\n",
       "      <td>1.0</td>\n",
       "    </tr>\n",
       "    <tr>\n",
       "      <th>4</th>\n",
       "      <td>154999</td>\n",
       "      <td>1</td>\n",
       "      <td>2</td>\n",
       "      <td>1.0</td>\n",
       "      <td>1.0</td>\n",
       "      <td>162.0</td>\n",
       "      <td>0</td>\n",
       "      <td>0</td>\n",
       "      <td>0</td>\n",
       "      <td>139</td>\n",
       "      <td>11</td>\n",
       "      <td>0</td>\n",
       "      <td>0</td>\n",
       "      <td>4.70</td>\n",
       "      <td>4.40</td>\n",
       "      <td>4.70</td>\n",
       "      <td>4.70</td>\n",
       "      <td>4.90</td>\n",
       "      <td>4.90</td>\n",
       "      <td>4.60</td>\n",
       "      <td>1.0</td>\n",
       "      <td>1.0</td>\n",
       "      <td>0.0</td>\n",
       "      <td>0.0</td>\n",
       "      <td>0.0</td>\n",
       "      <td>0.0</td>\n",
       "      <td>0.0</td>\n",
       "      <td>0.0</td>\n",
       "      <td>0.0</td>\n",
       "      <td>1.0</td>\n",
       "    </tr>\n",
       "  </tbody>\n",
       "</table>\n",
       "</div>"
      ],
      "text/plain": [
       "       id  customer_segments_pca  accommodates  bedrooms  beds  price  \\\n",
       "0     360                      1             3       2.0   2.0   90.0   \n",
       "1     364                      3             3       1.0   1.0  179.0   \n",
       "2   31503                      3             2       1.0   1.0  103.0   \n",
       "3   39405                      0             2       1.0   1.0  136.0   \n",
       "4  154999                      1             2       1.0   1.0  162.0   \n",
       "\n",
       "   availability_30  availability_60  availability_90  availability_365  \\\n",
       "0                4               27               57               147   \n",
       "1               23               53               83               358   \n",
       "2               12               42               72               347   \n",
       "3                6                7               32               114   \n",
       "4                0                0                0               139   \n",
       "\n",
       "   number_of_reviews  number_of_reviews_ltm  number_of_reviews_l30d  \\\n",
       "0                179                      7                       0   \n",
       "1                 87                      0                       0   \n",
       "2                159                     27                       3   \n",
       "3                667                     35                       3   \n",
       "4                 11                      0                       0   \n",
       "\n",
       "   review_scores_rating  review_scores_accuracy  review_scores_cleanliness  \\\n",
       "0                  4.99                    4.99                       4.96   \n",
       "1                  4.85                    4.78                       4.81   \n",
       "2                  4.91                    4.92                       5.00   \n",
       "3                  4.92                    4.88                       4.93   \n",
       "4                  4.70                    4.40                       4.70   \n",
       "\n",
       "   review_scores_checkin  review_scores_communication  review_scores_location  \\\n",
       "0                   5.00                         5.00                    5.00   \n",
       "1                   4.95                         4.96                    4.65   \n",
       "2                   4.95                         4.99                    4.88   \n",
       "3                   4.98                         4.97                    4.85   \n",
       "4                   4.70                         4.90                    4.90   \n",
       "\n",
       "   review_scores_value  bath_number  prop_type_reduced_Entire condo  \\\n",
       "0                 4.91          1.0                             0.0   \n",
       "1                 4.71          1.5                             0.0   \n",
       "2                 4.88          1.0                             0.0   \n",
       "3                 4.85          1.0                             0.0   \n",
       "4                 4.60          1.0                             1.0   \n",
       "\n",
       "   prop_type_reduced_Entire guest suite  prop_type_reduced_Entire guesthouse  \\\n",
       "0                                   0.0                                  1.0   \n",
       "1                                   0.0                                  0.0   \n",
       "2                                   1.0                                  0.0   \n",
       "3                                   0.0                                  0.0   \n",
       "4                                   0.0                                  0.0   \n",
       "\n",
       "   prop_type_reduced_Entire home  prop_type_reduced_Entire rental unit  \\\n",
       "0                            0.0                                   0.0   \n",
       "1                            0.0                                   0.0   \n",
       "2                            0.0                                   0.0   \n",
       "3                            0.0                                   0.0   \n",
       "4                            0.0                                   0.0   \n",
       "\n",
       "   prop_type_reduced_Entire townhouse  prop_type_reduced_Other  \\\n",
       "0                                 0.0                      0.0   \n",
       "1                                 0.0                      1.0   \n",
       "2                                 0.0                      0.0   \n",
       "3                                 0.0                      1.0   \n",
       "4                                 0.0                      0.0   \n",
       "\n",
       "   has_availability_f  has_availability_t  \n",
       "0                 0.0                 1.0  \n",
       "1                 0.0                 1.0  \n",
       "2                 0.0                 1.0  \n",
       "3                 0.0                 1.0  \n",
       "4                 0.0                 1.0  "
      ]
     },
     "execution_count": 37,
     "metadata": {},
     "output_type": "execute_result"
    }
   ],
   "source": [
    "# merge encoded dataframe with rest of data by id\n",
    "\n",
    "rf_regress_df = pd.merge(segments, df, on='id', how='inner')\n",
    "rf_regress_df.head()"
   ]
  },
  {
   "cell_type": "code",
   "execution_count": 38,
   "metadata": {},
   "outputs": [
    {
     "name": "stdout",
     "output_type": "stream",
     "text": [
      "Series([], dtype: int64)\n"
     ]
    }
   ],
   "source": [
    "# Check for nulls in rf_data and encoded_id_df so no issues when join.\n",
    "rf_nulls = rf_regress_df.isnull().sum().sort_values(ascending=False)\n",
    "rf_nulls_over0 = rf_nulls[rf_nulls > 0]\n",
    "\n",
    "print(rf_nulls_over0)"
   ]
  },
  {
   "cell_type": "code",
   "execution_count": 39,
   "metadata": {},
   "outputs": [],
   "source": [
    "# Set id as index so can retain id through the split and prediction process\n",
    "rf_regress_df= rf_regress_df.set_index('id')"
   ]
  },
  {
   "cell_type": "code",
   "execution_count": 20,
   "metadata": {},
   "outputs": [
    {
     "name": "stdout",
     "output_type": "stream",
     "text": [
      "rf rows 3565\n"
     ]
    }
   ],
   "source": [
    "# check row count of merged dataframe\n",
    "\n",
    "final_rows = len(rf_regress_df)\n",
    "print(f\"rf rows {final_rows}\")"
   ]
  },
  {
   "cell_type": "markdown",
   "metadata": {},
   "source": [
    "Below section builds the random forest regressor model.\n",
    "\n",
    "We need to use regression because the 2 data points we plan to predict are continuous data (not classification data).\n",
    "\n",
    "The predictions will be for:\n",
    "- review_scores_rating\n",
    "- availability_30\n",
    "\n"
   ]
  },
  {
   "cell_type": "code",
   "execution_count": 22,
   "metadata": {},
   "outputs": [],
   "source": [
    "##### random forest no need to encode or scale"
   ]
  },
  {
   "cell_type": "code",
   "execution_count": 40,
   "metadata": {},
   "outputs": [
    {
     "data": {
      "text/plain": [
       "Index(['customer_segments_pca', 'accommodates', 'bedrooms', 'beds', 'price',\n",
       "       'availability_30', 'availability_60', 'availability_90',\n",
       "       'availability_365', 'number_of_reviews', 'number_of_reviews_ltm',\n",
       "       'number_of_reviews_l30d', 'review_scores_rating',\n",
       "       'review_scores_accuracy', 'review_scores_cleanliness',\n",
       "       'review_scores_checkin', 'review_scores_communication',\n",
       "       'review_scores_location', 'review_scores_value', 'bath_number',\n",
       "       'prop_type_reduced_Entire condo',\n",
       "       'prop_type_reduced_Entire guest suite',\n",
       "       'prop_type_reduced_Entire guesthouse', 'prop_type_reduced_Entire home',\n",
       "       'prop_type_reduced_Entire rental unit',\n",
       "       'prop_type_reduced_Entire townhouse', 'prop_type_reduced_Other',\n",
       "       'has_availability_f', 'has_availability_t'],\n",
       "      dtype='object')"
      ]
     },
     "execution_count": 40,
     "metadata": {},
     "output_type": "execute_result"
    }
   ],
   "source": [
    "rf_regress_df.columns"
   ]
  },
  {
   "cell_type": "code",
   "execution_count": 41,
   "metadata": {},
   "outputs": [],
   "source": [
    "# create x and y (drop 30 day booking or review scores rating)\n",
    "\n",
    "X_avail = rf_regress_df.copy()\n",
    "X_avail.drop('availability_30', axis=1, inplace=True)\n",
    "X_rating = rf_regress_df.copy()\n",
    "X_rating.drop('review_scores_rating', axis=1, inplace=True)\n",
    "X_price = rf_regress_df.copy()\n",
    "X_price.drop('price', axis=1, inplace=True)\n",
    "\n",
    "y_avail = rf_regress_df['availability_30']\n",
    "y_rating = rf_regress_df['review_scores_rating']\n",
    "y_price = rf_regress_df['price']"
   ]
  },
  {
   "cell_type": "code",
   "execution_count": 42,
   "metadata": {},
   "outputs": [
    {
     "data": {
      "text/plain": [
       "array([ 90., 179., 103., ..., 128.,  50.,  86.])"
      ]
     },
     "execution_count": 42,
     "metadata": {},
     "output_type": "execute_result"
    }
   ],
   "source": [
    "# get y sets into array format\n",
    "y_avail.ravel()\n",
    "y_rating.ravel()\n",
    "y_price.ravel()"
   ]
  },
  {
   "cell_type": "code",
   "execution_count": 43,
   "metadata": {},
   "outputs": [],
   "source": [
    "# train_test_split on x and y for availability, ratings, price data sets\n",
    "X_avail_train, X_avail_test, y_avail_train, y_avail_test = train_test_split(X_avail, y_avail, random_state=1)\n",
    "\n",
    "X_rating_train, X_rating_test, y_rating_train, y_rating_test = train_test_split(X_rating, y_rating, random_state=1)\n",
    "\n",
    "X_price_train, X_price_test, y_price_train, y_price_test = train_test_split(X_price, y_price, random_state=1)\n"
   ]
  },
  {
   "cell_type": "code",
   "execution_count": 44,
   "metadata": {},
   "outputs": [],
   "source": [
    "# create random forest regression models for availability and bookings\n",
    "rf_regress_avail_model = RandomForestRegressor()\n",
    "\n",
    "rf_regress_avail_model = rf_regress_avail_model.fit(X_avail_train, y_avail_train)\n",
    "\n",
    "rf_regress_rating_model = RandomForestRegressor()\n",
    "\n",
    "rf_regress_rating_model = rf_regress_rating_model.fit(X_rating_train, y_rating_train)\n",
    "\n",
    "rf_regress_price_model = RandomForestRegressor()\n",
    "\n",
    "rf_regress_price_model = rf_regress_price_model.fit(X_price_train, y_price_train)"
   ]
  },
  {
   "cell_type": "code",
   "execution_count": 45,
   "metadata": {},
   "outputs": [],
   "source": [
    "# make predictions\n",
    "\n",
    "y_pred_regress_avail = rf_regress_avail_model.predict(X_avail_test)\n",
    "y_pred_regress_rating = rf_regress_rating_model.predict(X_rating_test)\n",
    "y_pred_regress_price = rf_regress_price_model.predict(X_price_test)"
   ]
  },
  {
   "cell_type": "code",
   "execution_count": 46,
   "metadata": {},
   "outputs": [
    {
     "name": "stdout",
     "output_type": "stream",
     "text": [
      "Mean Absolute Error availability: 1.845291479820628\n",
      "Mean Absolute Error rating: 0.06323419282511199\n",
      "Mean Absolute Error price: 41.913274343369636\n",
      "------------------------------------------\n",
      "Mean Squared Error availiability: 9.471533183856504\n",
      "Mean Squared Error rating: 0.01840462350896862\n",
      "Mean Squared Error price: 3070.229349595383\n",
      "------------------------------------------\n",
      "Root Mean Squared Error availability: 3.0775856095089384\n",
      "Root Mean Squared Error rating: 0.13566364107220705\n",
      "Root Mean Squared Error price: 55.40965032912032\n",
      "------------------------------------------\n",
      "R-squared availability: 0.8859635931997473\n",
      "R-squared rating: 0.8049707791893899\n",
      "R-squared price: 0.501057820702572\n"
     ]
    }
   ],
   "source": [
    "# Calculate Mean Absolute Error\n",
    "mae_avail = mean_absolute_error(y_avail_test, y_pred_regress_avail)\n",
    "mae_rating = mean_absolute_error(y_rating_test, y_pred_regress_rating)\n",
    "mae_price = mean_absolute_error(y_price_test, y_pred_regress_price)\n",
    "print(f\"Mean Absolute Error availability: {mae_avail}\")\n",
    "print(f\"Mean Absolute Error rating: {mae_rating}\")\n",
    "print(f\"Mean Absolute Error price: {mae_price}\")\n",
    "print(\"------------------------------------------\")\n",
    "\n",
    "# Calculate Mean Squared Error\n",
    "mse_avail = mean_squared_error(y_avail_test, y_pred_regress_avail)\n",
    "mse_rating = mean_squared_error(y_rating_test, y_pred_regress_rating)\n",
    "mse_price = mean_squared_error(y_price_test, y_pred_regress_price)\n",
    "print(f\"Mean Squared Error availiability: {mse_avail}\")\n",
    "print(f\"Mean Squared Error rating: {mse_rating}\")\n",
    "print(f\"Mean Squared Error price: {mse_price}\")\n",
    "print(\"------------------------------------------\")\n",
    "\n",
    "# Calculate Root Mean Squared Error\n",
    "rmse_avail = np.sqrt(mse_avail)\n",
    "rmse_rating = np.sqrt(mse_rating)\n",
    "rmse_price = np.sqrt(mse_price)\n",
    "print(f\"Root Mean Squared Error availability: {rmse_avail}\")\n",
    "print(f\"Root Mean Squared Error rating: {rmse_rating}\")\n",
    "print(f\"Root Mean Squared Error price: {rmse_price}\")\n",
    "print(\"------------------------------------------\")\n",
    "\n",
    "# Calculate R-squared\n",
    "r2_avail = r2_score(y_avail_test, y_pred_regress_avail)\n",
    "r2_rating = r2_score(y_rating_test, y_pred_regress_rating)\n",
    "r2_price = r2_score(y_price_test, y_pred_regress_price)\n",
    "print(f\"R-squared availability: {r2_avail}\")\n",
    "print(f\"R-squared rating: {r2_rating}\")\n",
    "print(f\"R-squared price: {r2_price}\")"
   ]
  },
  {
   "cell_type": "markdown",
   "metadata": {},
   "source": [
    "We are trying to predict continuous data for both the 30 day bookings and the review ratings.  Therefore we have to use a regression model (not a classification model). And our metrics to measure accuracy need to be suited for regression, not classification.\n",
    "\n",
    "Below is further info on the 4 regression metrics:\n",
    "\n",
    "mean absolute error: \n",
    "- lower outcome is better\n",
    "- range 0 to infinity\n",
    "- MAE provides the average absolute difference between the predicted values and the actual values. A MAE of 0 means perfect predictions with no errors. The \"goodness\" of MAE depends on the scale of the target variable; a small MAE is more desirable, indicating that the model's predictions are close to the actual values.\n",
    "\n",
    "mean squared error:\n",
    "- lower outcome is better\n",
    "- range 0 to infinity\n",
    "- MSE is similar to MAE but squares the differences before averaging them, which penalizes larger errors more severely. A MSE of 0 indicates perfect predictions. Like MAE, whether an MSE is considered good depends on the scale of the data. Lower MSE values indicate better model performance.\n",
    "\n",
    "root mean squared error:\n",
    "- lower outcome is better\n",
    "- range 0 to infinity\n",
    "- RMSE is the square root of MSE, bringing the error metric back to the scale of the target variable. This makes it more interpretable than MSE. A lower RMSE indicates better model performance, and an RMSE of 0 indicates perfect predictions.\n",
    "\n",
    "R-squared:\n",
    "- higher outcome is better\n",
    "- range neg. infinity to 1\n",
    "- R-squared measures the proportion of the variance in the dependent variable that is predictable from the independent variables. A value of 1 indicates that the model perfectly predicts the target variable, while a value of 0 indicates that the model does no better than simply predicting the mean of the target variable. Negative R-squared values can occur when the chosen model fits worse than a horizontal line. Higher values indicate better fit, but the \"goodness\" of an R-squared value also depends on the context and complexity of the model."
   ]
  }
 ],
 "metadata": {
  "kernelspec": {
   "display_name": "base",
   "language": "python",
   "name": "python3"
  },
  "language_info": {
   "codemirror_mode": {
    "name": "ipython",
    "version": 3
   },
   "file_extension": ".py",
   "mimetype": "text/x-python",
   "name": "python",
   "nbconvert_exporter": "python",
   "pygments_lexer": "ipython3",
   "version": "3.11.5"
  }
 },
 "nbformat": 4,
 "nbformat_minor": 2
}
